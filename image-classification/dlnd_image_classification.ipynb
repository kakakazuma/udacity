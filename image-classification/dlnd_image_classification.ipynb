{
 "cells": [
  {
   "cell_type": "markdown",
   "metadata": {
    "collapsed": true,
    "deletable": true,
    "editable": true
   },
   "source": [
    "# Image Classification\n",
    "In this project, you'll classify images from the [CIFAR-10 dataset](https://www.cs.toronto.edu/~kriz/cifar.html).  The dataset consists of airplanes, dogs, cats, and other objects. You'll preprocess the images, then train a convolutional neural network on all the samples. The images need to be normalized and the labels need to be one-hot encoded.  You'll get to apply what you learned and build a convolutional, max pooling, dropout, and fully connected layers.  At the end, you'll get to see your neural network's predictions on the sample images.\n",
    "## Get the Data\n",
    "Run the following cell to download the [CIFAR-10 dataset for python](https://www.cs.toronto.edu/~kriz/cifar-10-python.tar.gz)."
   ]
  },
  {
   "cell_type": "code",
   "execution_count": 1,
   "metadata": {
    "collapsed": false,
    "deletable": true,
    "editable": true
   },
   "outputs": [
    {
     "name": "stderr",
     "output_type": "stream",
     "text": [
      "CIFAR-10 Dataset: 171MB [00:28, 5.89MB/s]                              \n"
     ]
    },
    {
     "name": "stdout",
     "output_type": "stream",
     "text": [
      "All files found!\n"
     ]
    }
   ],
   "source": [
    "\"\"\"\n",
    "DON'T MODIFY ANYTHING IN THIS CELL THAT IS BELOW THIS LINE\n",
    "\"\"\"\n",
    "from urllib.request import urlretrieve\n",
    "from os.path import isfile, isdir\n",
    "from tqdm import tqdm\n",
    "import problem_unittests as tests\n",
    "import tarfile\n",
    "\n",
    "cifar10_dataset_folder_path = 'cifar-10-batches-py'\n",
    "\n",
    "class DLProgress(tqdm):\n",
    "    last_block = 0\n",
    "\n",
    "    def hook(self, block_num=1, block_size=1, total_size=None):\n",
    "        self.total = total_size\n",
    "        self.update((block_num - self.last_block) * block_size)\n",
    "        self.last_block = block_num\n",
    "\n",
    "if not isfile('cifar-10-python.tar.gz'):\n",
    "    with DLProgress(unit='B', unit_scale=True, miniters=1, desc='CIFAR-10 Dataset') as pbar:\n",
    "        urlretrieve(\n",
    "            'https://www.cs.toronto.edu/~kriz/cifar-10-python.tar.gz',\n",
    "            'cifar-10-python.tar.gz',\n",
    "            pbar.hook)\n",
    "\n",
    "if not isdir(cifar10_dataset_folder_path):\n",
    "    with tarfile.open('cifar-10-python.tar.gz') as tar:\n",
    "        tar.extractall()\n",
    "        tar.close()\n",
    "\n",
    "\n",
    "tests.test_folder_path(cifar10_dataset_folder_path)"
   ]
  },
  {
   "cell_type": "markdown",
   "metadata": {
    "deletable": true,
    "editable": true
   },
   "source": [
    "## Explore the Data\n",
    "The dataset is broken into batches to prevent your machine from running out of memory.  The CIFAR-10 dataset consists of 5 batches, named `data_batch_1`, `data_batch_2`, etc.. Each batch contains the labels and images that are one of the following:\n",
    "* airplane\n",
    "* automobile\n",
    "* bird\n",
    "* cat\n",
    "* deer\n",
    "* dog\n",
    "* frog\n",
    "* horse\n",
    "* ship\n",
    "* truck\n",
    "\n",
    "Understanding a dataset is part of making predictions on the data.  Play around with the code cell below by changing the `batch_id` and `sample_id`. The `batch_id` is the id for a batch (1-5). The `sample_id` is the id for a image and label pair in the batch.\n",
    "\n",
    "Ask yourself \"What are all possible labels?\", \"What is the range of values for the image data?\", \"Are the labels in order or random?\".  Answers to questions like these will help you preprocess the data and end up with better predictions."
   ]
  },
  {
   "cell_type": "code",
   "execution_count": 2,
   "metadata": {
    "collapsed": false,
    "deletable": true,
    "editable": true
   },
   "outputs": [
    {
     "name": "stdout",
     "output_type": "stream",
     "text": [
      "\n",
      "Stats of batch 1:\n",
      "Samples: 10000\n",
      "Label Counts: {0: 1005, 1: 974, 2: 1032, 3: 1016, 4: 999, 5: 937, 6: 1030, 7: 1001, 8: 1025, 9: 981}\n",
      "First 20 Labels: [6, 9, 9, 4, 1, 1, 2, 7, 8, 3, 4, 7, 7, 2, 9, 9, 9, 3, 2, 6]\n",
      "\n",
      "Example of Image 5:\n",
      "Image - Min Value: 0 Max Value: 252\n",
      "Image - Shape: (32, 32, 3)\n",
      "Label - Label Id: 1 Name: automobile\n"
     ]
    },
    {
     "data": {
      "image/png": "[encoded data removed]",
      "text/plain": [
       "<matplotlib.figure.Figure at 0x7f7bce92aa20>"
      ]
     },
     "metadata": {
      "image/png": {
       "height": 250,
       "width": 253
      }
     },
     "output_type": "display_data"
    }
   ],
   "source": [
    "%matplotlib inline\n",
    "%config InlineBackend.figure_format = 'retina'\n",
    "\n",
    "import helper\n",
    "import numpy as np\n",
    "\n",
    "# Explore the dataset\n",
    "batch_id = 1\n",
    "sample_id = 5\n",
    "helper.display_stats(cifar10_dataset_folder_path, batch_id, sample_id)"
   ]
  },
  {
   "cell_type": "markdown",
   "metadata": {
    "deletable": true,
    "editable": true
   },
   "source": [
    "## Implement Preprocess Functions\n",
    "### Normalize\n",
    "In the cell below, implement the `normalize` function to take in image data, `x`, and return it as a normalized Numpy array. The values should be in the range of 0 to 1, inclusive.  The return object should be the same shape as `x`."
   ]
  },
  {
   "cell_type": "code",
   "execution_count": 4,
   "metadata": {
    "collapsed": false,
    "deletable": true,
    "editable": true
   },
   "outputs": [
    {
     "name": "stdout",
     "output_type": "stream",
     "text": [
      "Tests Passed\n"
     ]
    }
   ],
   "source": [
    "def normalize(x):\n",
    "    \"\"\"\n",
    "    Normalize a list of sample image data in the range of 0 to 1\n",
    "    : x: List of image data.  The image shape is (32, 32, 3)\n",
    "    : return: Numpy array of normalize data\n",
    "    \"\"\"\n",
    "    # TODO: Implement Function\n",
    "    return x / 255\n",
    "\n",
    "\n",
    "\"\"\"\n",
    "DON'T MODIFY ANYTHING IN THIS CELL THAT IS BELOW THIS LINE\n",
    "\"\"\"\n",
    "tests.test_normalize(normalize)"
   ]
  },
  {
   "cell_type": "markdown",
   "metadata": {
    "deletable": true,
    "editable": true
   },
   "source": [
    "### One-hot encode\n",
    "Just like the previous code cell, you'll be implementing a function for preprocessing.  This time, you'll implement the `one_hot_encode` function. The input, `x`, are a list of labels.  Implement the function to return the list of labels as One-Hot encoded Numpy array.  The possible values for labels are 0 to 9. The one-hot encoding function should return the same encoding for each value between each call to `one_hot_encode`.  Make sure to save the map of encodings outside the function.\n",
    "\n",
    "Hint: Don't reinvent the wheel."
   ]
  },
  {
   "cell_type": "code",
   "execution_count": 6,
   "metadata": {
    "collapsed": false,
    "deletable": true,
    "editable": true
   },
   "outputs": [
    {
     "name": "stdout",
     "output_type": "stream",
     "text": [
      "Tests Passed\n"
     ]
    }
   ],
   "source": [
    "def one_hot_encode(x):\n",
    "    \"\"\"\n",
    "    One hot encode a list of sample labels. Return a one-hot encoded vector for each label.\n",
    "    : x: List of sample Labels\n",
    "    : return: Numpy array of one-hot encoded labels\n",
    "    \"\"\"\n",
    "    # TODO: Implement Function\n",
    "    cols = np.max(x) + 1\n",
    "    return np.eye(cols)[x]\n",
    "\n",
    "\n",
    "\"\"\"\n",
    "DON'T MODIFY ANYTHING IN THIS CELL THAT IS BELOW THIS LINE\n",
    "\"\"\"\n",
    "tests.test_one_hot_encode(one_hot_encode)"
   ]
  },
  {
   "cell_type": "markdown",
   "metadata": {
    "deletable": true,
    "editable": true
   },
   "source": [
    "### Randomize Data\n",
    "As you saw from exploring the data above, the order of the samples are randomized.  It doesn't hurt to randomize it again, but you don't need to for this dataset."
   ]
  },
  {
   "cell_type": "markdown",
   "metadata": {
    "deletable": true,
    "editable": true
   },
   "source": [
    "## Preprocess all the data and save it\n",
    "Running the code cell below will preprocess all the CIFAR-10 data and save it to file. The code below also uses 10% of the training data for validation."
   ]
  },
  {
   "cell_type": "code",
   "execution_count": 7,
   "metadata": {
    "collapsed": false,
    "deletable": true,
    "editable": true
   },
   "outputs": [],
   "source": [
    "\"\"\"\n",
    "DON'T MODIFY ANYTHING IN THIS CELL\n",
    "\"\"\"\n",
    "# Preprocess Training, Validation, and Testing Data\n",
    "helper.preprocess_and_save_data(cifar10_dataset_folder_path, normalize, one_hot_encode)"
   ]
  },
  {
   "cell_type": "markdown",
   "metadata": {
    "deletable": true,
    "editable": true
   },
   "source": [
    "# Check Point\n",
    "This is your first checkpoint.  If you ever decide to come back to this notebook or have to restart the notebook, you can start from here.  The preprocessed data has been saved to disk."
   ]
  },
  {
   "cell_type": "code",
   "execution_count": 1,
   "metadata": {
    "collapsed": true,
    "deletable": true,
    "editable": true
   },
   "outputs": [],
   "source": [
    "\"\"\"\n",
    "DON'T MODIFY ANYTHING IN THIS CELL\n",
    "\"\"\"\n",
    "import pickle\n",
    "import problem_unittests as tests\n",
    "import helper\n",
    "\n",
    "# Load the Preprocessed Validation data\n",
    "valid_features, valid_labels = pickle.load(open('preprocess_validation.p', mode='rb'))"
   ]
  },
  {
   "cell_type": "markdown",
   "metadata": {
    "deletable": true,
    "editable": true
   },
   "source": [
    "## Build the network\n",
    "For the neural network, you'll build each layer into a function.  Most of the code you've seen has been outside of functions. To test your code more thoroughly, we require that you put each layer in a function.  This allows us to give you better feedback and test for simple mistakes using our unittests before you submit your project.\n",
    "\n",
    ">**Note:** If you're finding it hard to dedicate enough time for this course each week, we've provided a small shortcut to this part of the project. In the next couple of problems, you'll have the option to use classes from the [TensorFlow Layers](https://www.tensorflow.org/api_docs/python/tf/layers) or [TensorFlow Layers (contrib)](https://www.tensorflow.org/api_guides/python/contrib.layers) packages to build each layer, except the layers you build in the \"Convolutional and Max Pooling Layer\" section.  TF Layers is similar to Keras's and TFLearn's abstraction to layers, so it's easy to pickup.\n",
    "\n",
    ">However, if you would like to get the most out of this course, try to solve all the problems _without_ using anything from the TF Layers packages. You **can** still use classes from other packages that happen to have the same name as ones you find in TF Layers! For example, instead of using the TF Layers version of the `conv2d` class, [tf.layers.conv2d](https://www.tensorflow.org/api_docs/python/tf/layers/conv2d), you would want to use the TF Neural Network version of `conv2d`, [tf.nn.conv2d](https://www.tensorflow.org/api_docs/python/tf/nn/conv2d). \n",
    "\n",
    "Let's begin!\n",
    "\n",
    "### Input\n",
    "The neural network needs to read the image data, one-hot encoded labels, and dropout keep probability. Implement the following functions\n",
    "* Implement `neural_net_image_input`\n",
    " * Return a [TF Placeholder](https://www.tensorflow.org/api_docs/python/tf/placeholder)\n",
    " * Set the shape using `image_shape` with batch size set to `None`.\n",
    " * Name the TensorFlow placeholder \"x\" using the TensorFlow `name` parameter in the [TF Placeholder](https://www.tensorflow.org/api_docs/python/tf/placeholder).\n",
    "* Implement `neural_net_label_input`\n",
    " * Return a [TF Placeholder](https://www.tensorflow.org/api_docs/python/tf/placeholder)\n",
    " * Set the shape using `n_classes` with batch size set to `None`.\n",
    " * Name the TensorFlow placeholder \"y\" using the TensorFlow `name` parameter in the [TF Placeholder](https://www.tensorflow.org/api_docs/python/tf/placeholder).\n",
    "* Implement `neural_net_keep_prob_input`\n",
    " * Return a [TF Placeholder](https://www.tensorflow.org/api_docs/python/tf/placeholder) for dropout keep probability.\n",
    " * Name the TensorFlow placeholder \"keep_prob\" using the TensorFlow `name` parameter in the [TF Placeholder](https://www.tensorflow.org/api_docs/python/tf/placeholder).\n",
    "\n",
    "These names will be used at the end of the project to load your saved model.\n",
    "\n",
    "Note: `None` for shapes in TensorFlow allow for a dynamic size."
   ]
  },
  {
   "cell_type": "code",
   "execution_count": 2,
   "metadata": {
    "collapsed": false,
    "deletable": true,
    "editable": true
   },
   "outputs": [
    {
     "name": "stdout",
     "output_type": "stream",
     "text": [
      "Image Input Tests Passed.\n",
      "Label Input Tests Passed.\n",
      "Keep Prob Tests Passed.\n"
     ]
    }
   ],
   "source": [
    "import tensorflow as tf\n",
    "\n",
    "def neural_net_image_input(image_shape):\n",
    "    \"\"\"\n",
    "    Return a Tensor for a bach of image input\n",
    "    : image_shape: Shape of the images\n",
    "    : return: Tensor for image input.\n",
    "    \"\"\"\n",
    "    # TODO: Implement Function\n",
    "    return tf.placeholder(tf.float32, shape=(None, image_shape[0], image_shape[1], image_shape[2]), name='x')\n",
    "\n",
    "def neural_net_label_input(n_classes):\n",
    "    \"\"\"\n",
    "    Return a Tensor for a batch of label input\n",
    "    : n_classes: Number of classes\n",
    "    : return: Tensor for label input.\n",
    "    \"\"\"\n",
    "    # TODO: Implement Function\n",
    "    return tf.placeholder(tf.float32, shape=(None, n_classes), name='y')\n",
    "\n",
    "\n",
    "def neural_net_keep_prob_input():\n",
    "    \"\"\"\n",
    "    Return a Tensor for keep probability\n",
    "    : return: Tensor for keep probability.\n",
    "    \"\"\"\n",
    "    # TODO: Implement Function\n",
    "    return tf.placeholder(tf.float32, name='keep_prob')\n",
    "\n",
    "\n",
    "\"\"\"\n",
    "DON'T MODIFY ANYTHING IN THIS CELL THAT IS BELOW THIS LINE\n",
    "\"\"\"\n",
    "tf.reset_default_graph()\n",
    "tests.test_nn_image_inputs(neural_net_image_input)\n",
    "tests.test_nn_label_inputs(neural_net_label_input)\n",
    "tests.test_nn_keep_prob_inputs(neural_net_keep_prob_input)"
   ]
  },
  {
   "cell_type": "markdown",
   "metadata": {
    "deletable": true,
    "editable": true
   },
   "source": [
    "### Convolution and Max Pooling Layer\n",
    "Convolution layers have a lot of success with images. For this code cell, you should implement the function `conv2d_maxpool` to apply convolution then max pooling:\n",
    "* Create the weight and bias using `conv_ksize`, `conv_num_outputs` and the shape of `x_tensor`.\n",
    "* Apply a convolution to `x_tensor` using weight and `conv_strides`.\n",
    " * We recommend you use same padding, but you're welcome to use any padding.\n",
    "* Add bias\n",
    "* Add a nonlinear activation to the convolution.\n",
    "* Apply Max Pooling using `pool_ksize` and `pool_strides`.\n",
    " * We recommend you use same padding, but you're welcome to use any padding.\n",
    "\n",
    "**Note:** You **can't** use [TensorFlow Layers](https://www.tensorflow.org/api_docs/python/tf/layers) or [TensorFlow Layers (contrib)](https://www.tensorflow.org/api_guides/python/contrib.layers) for **this** layer, but you can still use TensorFlow's [Neural Network](https://www.tensorflow.org/api_docs/python/tf/nn) package. You may still use the shortcut option for all the **other** layers."
   ]
  },
  {
   "cell_type": "code",
   "execution_count": 3,
   "metadata": {
    "collapsed": false,
    "deletable": true,
    "editable": true
   },
   "outputs": [
    {
     "name": "stdout",
     "output_type": "stream",
     "text": [
      "Tests Passed\n"
     ]
    }
   ],
   "source": [
    "def conv2d_maxpool(x_tensor, conv_num_outputs, conv_ksize, conv_strides, pool_ksize, pool_strides):\n",
    "    \"\"\"\n",
    "    Apply convolution then max pooling to x_tensor\n",
    "    :param x_tensor: TensorFlow Tensor\n",
    "    :param conv_num_outputs: Number of outputs for the convolutional layer\n",
    "    :param conv_ksize: kernal size 2-D Tuple for the convolutional layer\n",
    "    :param conv_strides: Stride 2-D Tuple for convolution\n",
    "    :param pool_ksize: kernal size 2-D Tuple for pool\n",
    "    :param pool_strides: Stride 2-D Tuple for pool\n",
    "    : return: A tensor that represents convolution and max pooling of x_tensor\n",
    "    \"\"\"\n",
    "    # TODO: Implement Function\n",
    "    # Initialize weight and bias\n",
    "    filter_weights = tf.Variable(tf.truncated_normal((conv_ksize[0], conv_ksize[1], int(x_tensor.get_shape()[3]), conv_num_outputs), stddev=0.1))\n",
    "    filter_bias = tf.Variable(tf.zeros(conv_num_outputs))\n",
    "    \n",
    "    # Apply convolution\n",
    "    conv_layer = tf.nn.conv2d(x_tensor, filter_weights, strides=[1, conv_strides[0], conv_strides[1], 1], padding='SAME')\n",
    "    conv_layer = tf.nn.bias_add(conv_layer, filter_bias)\n",
    "    \n",
    "    # Add nonlinear activation(ReLu)\n",
    "    conv_layer = tf.nn.relu(conv_layer)\n",
    "    \n",
    "    # Apply Max Pooling\n",
    "    conv_layer = tf.nn.max_pool(conv_layer, \n",
    "                                ksize=[1, pool_ksize[0], pool_ksize[1], 1],\n",
    "                                strides=[1, pool_strides[0], pool_strides[1], 1],\n",
    "                                padding='SAME')\n",
    "    return conv_layer \n",
    "\n",
    "\"\"\"\n",
    "DON'T MODIFY ANYTHING IN THIS CELL THAT IS BELOW THIS LINE\n",
    "\"\"\"\n",
    "tests.test_con_pool(conv2d_maxpool)"
   ]
  },
  {
   "cell_type": "markdown",
   "metadata": {
    "deletable": true,
    "editable": true
   },
   "source": [
    "### Flatten Layer\n",
    "Implement the `flatten` function to change the dimension of `x_tensor` from a 4-D tensor to a 2-D tensor.  The output should be the shape (*Batch Size*, *Flattened Image Size*). Shortcut option: you can use classes from the [TensorFlow Layers](https://www.tensorflow.org/api_docs/python/tf/layers) or [TensorFlow Layers (contrib)](https://www.tensorflow.org/api_guides/python/contrib.layers) packages for this layer. For more of a challenge, only use other TensorFlow packages."
   ]
  },
  {
   "cell_type": "code",
   "execution_count": 4,
   "metadata": {
    "collapsed": false,
    "deletable": true,
    "editable": true
   },
   "outputs": [
    {
     "name": "stdout",
     "output_type": "stream",
     "text": [
      "Tests Passed\n"
     ]
    }
   ],
   "source": [
    "def flatten(x_tensor):\n",
    "    \"\"\"\n",
    "    Flatten x_tensor to (Batch Size, Flattened Image Size)\n",
    "    : x_tensor: A tensor of size (Batch Size, ...), where ... are the image dimensions.\n",
    "    : return: A tensor of size (Batch Size, Flattened Image Size).\n",
    "    \"\"\"\n",
    "    # TODO: Implement Function\n",
    "    x_shape = x_tensor.get_shape()\n",
    "    w = int(x_shape[1])\n",
    "    h = int(x_shape[2])\n",
    "    c = int(x_shape[3])\n",
    "    dim = w * h * c\n",
    "    return tf.reshape(x_tensor, [-1, dim])\n",
    "\n",
    "\n",
    "\"\"\"\n",
    "DON'T MODIFY ANYTHING IN THIS CELL THAT IS BELOW THIS LINE\n",
    "\"\"\"\n",
    "tests.test_flatten(flatten)"
   ]
  },
  {
   "cell_type": "markdown",
   "metadata": {
    "deletable": true,
    "editable": true
   },
   "source": [
    "### Fully-Connected Layer\n",
    "Implement the `fully_conn` function to apply a fully connected layer to `x_tensor` with the shape (*Batch Size*, *num_outputs*). Shortcut option: you can use classes from the [TensorFlow Layers](https://www.tensorflow.org/api_docs/python/tf/layers) or [TensorFlow Layers (contrib)](https://www.tensorflow.org/api_guides/python/contrib.layers) packages for this layer. For more of a challenge, only use other TensorFlow packages."
   ]
  },
  {
   "cell_type": "code",
   "execution_count": 5,
   "metadata": {
    "collapsed": false,
    "deletable": true,
    "editable": true
   },
   "outputs": [
    {
     "name": "stdout",
     "output_type": "stream",
     "text": [
      "Tests Passed\n"
     ]
    }
   ],
   "source": [
    "def fully_conn(x_tensor, num_outputs):\n",
    "    \"\"\"\n",
    "    Apply a fully connected layer to x_tensor using weight and bias\n",
    "    : x_tensor: A 2-D tensor where the first dimension is batch size.\n",
    "    : num_outputs: The number of output that the new tensor should be.\n",
    "    : return: A 2-D tensor where the second dimension is num_outputs.\n",
    "    \"\"\"\n",
    "    # TODO: Implement Function\n",
    "    x_shape = x_tensor.get_shape()\n",
    "    weights = tf.Variable(tf.truncated_normal((int(x_shape[1]), num_outputs), stddev=0.1))\n",
    "    biases = tf.Variable(tf.zeros([num_outputs]))\n",
    "    return tf.nn.relu(tf.matmul(x_tensor, weights) + biases)\n",
    "\n",
    "\"\"\"\n",
    "DON'T MODIFY ANYTHING IN THIS CELL THAT IS BELOW THIS LINE\n",
    "\"\"\"\n",
    "tests.test_fully_conn(fully_conn)"
   ]
  },
  {
   "cell_type": "markdown",
   "metadata": {
    "deletable": true,
    "editable": true
   },
   "source": [
    "### Output Layer\n",
    "Implement the `output` function to apply a fully connected layer to `x_tensor` with the shape (*Batch Size*, *num_outputs*). Shortcut option: you can use classes from the [TensorFlow Layers](https://www.tensorflow.org/api_docs/python/tf/layers) or [TensorFlow Layers (contrib)](https://www.tensorflow.org/api_guides/python/contrib.layers) packages for this layer. For more of a challenge, only use other TensorFlow packages.\n",
    "\n",
    "**Note:** Activation, softmax, or cross entropy should **not** be applied to this."
   ]
  },
  {
   "cell_type": "code",
   "execution_count": 6,
   "metadata": {
    "collapsed": false,
    "deletable": true,
    "editable": true
   },
   "outputs": [
    {
     "name": "stdout",
     "output_type": "stream",
     "text": [
      "Tests Passed\n"
     ]
    }
   ],
   "source": [
    "def output(x_tensor, num_outputs):\n",
    "    \"\"\"\n",
    "    Apply a output layer to x_tensor using weight and bias\n",
    "    : x_tensor: A 2-D tensor where the first dimension is batch size.\n",
    "    : num_outputs: The number of output that the new tensor should be.\n",
    "    : return: A 2-D tensor where the second dimension is num_outputs.\n",
    "    \"\"\"\n",
    "    x_shape = x_tensor.get_shape()\n",
    "    weights = tf.Variable(tf.truncated_normal((int(x_shape[1]), num_outputs), stddev=0.1))\n",
    "    biases = tf.Variable(tf.zeros([num_outputs]))\n",
    "    return tf.add(tf.matmul(x_tensor, weights), biases)\n",
    "\n",
    "\"\"\"\n",
    "DON'T MODIFY ANYTHING IN THIS CELL THAT IS BELOW THIS LINE\n",
    "\"\"\"\n",
    "tests.test_output(output)"
   ]
  },
  {
   "cell_type": "markdown",
   "metadata": {
    "deletable": true,
    "editable": true
   },
   "source": [
    "### Create Convolutional Model\n",
    "Implement the function `conv_net` to create a convolutional neural network model. The function takes in a batch of images, `x`, and outputs logits.  Use the layers you created above to create this model:\n",
    "\n",
    "* Apply 1, 2, or 3 Convolution and Max Pool layers\n",
    "* Apply a Flatten Layer\n",
    "* Apply 1, 2, or 3 Fully Connected Layers\n",
    "* Apply an Output Layer\n",
    "* Return the output\n",
    "* Apply [TensorFlow's Dropout](https://www.tensorflow.org/api_docs/python/tf/nn/dropout) to one or more layers in the model using `keep_prob`. "
   ]
  },
  {
   "cell_type": "code",
   "execution_count": 8,
   "metadata": {
    "collapsed": false,
    "deletable": true,
    "editable": true
   },
   "outputs": [
    {
     "name": "stdout",
     "output_type": "stream",
     "text": [
      "Neural Network Built!\n"
     ]
    }
   ],
   "source": [
    "def conv_net(x, keep_prob):\n",
    "    \"\"\"\n",
    "    Create a convolutional neural network model\n",
    "    : x: Placeholder tensor that holds image data.\n",
    "    : keep_prob: Placeholder tensor that hold dropout keep probability.\n",
    "    : return: Tensor that represents logits\n",
    "    \"\"\"\n",
    "    x_tensor = x\n",
    "    # TODO: Apply 1, 2, or 3 Convolution and Max Pool layers\n",
    "    #    Play around with different number of outputs, kernel size and stride\n",
    "    # Function Definition from Above:    \n",
    "    x_tensor = conv2d_maxpool(x_tensor, 64, (5, 5), (1, 1), (3, 3), (2, 2))\n",
    "    x_tensor = conv2d_maxpool(x_tensor, 64, (5, 5), (1, 1), (3, 3), (2, 2))\n",
    "    x_tensor = conv2d_maxpool(x_tensor, 128, (5, 5), (1, 1), (3, 3), (2, 2))\n",
    "    \n",
    "    # TODO: Apply a Flatten Layer\n",
    "    # Function Definition from Above:\n",
    "    x_tensor = flatten(x_tensor)\n",
    "    \n",
    "    # TODO: Apply 1, 2, or 3 Fully Connected Layers\n",
    "    #    Play around with different number of outputs\n",
    "    # Function Definition from Above:\n",
    "    x_tensor = fully_conn(x_tensor, 128 * 4 * 4)\n",
    "    x_tensor = tf.nn.dropout(x_tensor, keep_prob)\n",
    "    x_tensor = fully_conn(x_tensor, 128 * 2 * 2)\n",
    "    \n",
    "    # TODO: Apply an Output Layer\n",
    "    #    Set this to the number of classes\n",
    "    # Function Definition from Above:\n",
    "    x_tensor = output(x_tensor, 10)\n",
    "    \n",
    "    # TODO: return output\n",
    "    return x_tensor\n",
    "\n",
    "\n",
    "\"\"\"\n",
    "DON'T MODIFY ANYTHING IN THIS CELL THAT IS BELOW THIS LINE\n",
    "\"\"\"\n",
    "\n",
    "##############################\n",
    "## Build the Neural Network ##\n",
    "##############################\n",
    "\n",
    "# Remove previous weights, bias, inputs, etc..\n",
    "tf.reset_default_graph()\n",
    "\n",
    "# Inputs\n",
    "x = neural_net_image_input((32, 32, 3))\n",
    "y = neural_net_label_input(10)\n",
    "keep_prob = neural_net_keep_prob_input()\n",
    "\n",
    "# Model\n",
    "logits = conv_net(x, keep_prob)\n",
    "\n",
    "# Name logits Tensor, so that is can be loaded from disk after training\n",
    "logits = tf.identity(logits, name='logits')\n",
    "\n",
    "# Loss and Optimizer\n",
    "cost = tf.reduce_mean(tf.nn.softmax_cross_entropy_with_logits(logits=logits, labels=y))\n",
    "optimizer = tf.train.AdamOptimizer().minimize(cost)\n",
    "\n",
    "# Accuracy\n",
    "correct_pred = tf.equal(tf.argmax(logits, 1), tf.argmax(y, 1))\n",
    "accuracy = tf.reduce_mean(tf.cast(correct_pred, tf.float32), name='accuracy')\n",
    "\n",
    "tests.test_conv_net(conv_net)"
   ]
  },
  {
   "cell_type": "markdown",
   "metadata": {
    "deletable": true,
    "editable": true
   },
   "source": [
    "## Train the Neural Network\n",
    "### Single Optimization\n",
    "Implement the function `train_neural_network` to do a single optimization.  The optimization should use `optimizer` to optimize in `session` with a `feed_dict` of the following:\n",
    "* `x` for image input\n",
    "* `y` for labels\n",
    "* `keep_prob` for keep probability for dropout\n",
    "\n",
    "This function will be called for each batch, so `tf.global_variables_initializer()` has already been called.\n",
    "\n",
    "Note: Nothing needs to be returned. This function is only optimizing the neural network."
   ]
  },
  {
   "cell_type": "code",
   "execution_count": 9,
   "metadata": {
    "collapsed": false,
    "deletable": true,
    "editable": true
   },
   "outputs": [
    {
     "name": "stdout",
     "output_type": "stream",
     "text": [
      "Tests Passed\n"
     ]
    }
   ],
   "source": [
    "def train_neural_network(session, optimizer, keep_probability, feature_batch, label_batch):\n",
    "    \"\"\"\n",
    "    Optimize the session on a batch of images and labels\n",
    "    : session: Current TensorFlow session\n",
    "    : optimizer: TensorFlow optimizer function\n",
    "    : keep_probability: keep probability\n",
    "    : feature_batch: Batch of Numpy image data\n",
    "    : label_batch: Batch of Numpy label data\n",
    "    \"\"\"\n",
    "    session.run(optimizer, feed_dict={'x:0': feature_batch, 'y:0': label_batch, 'keep_prob:0':keep_probability})\n",
    "    \n",
    "\"\"\"\n",
    "DON'T MODIFY ANYTHING IN THIS CELL THAT IS BELOW THIS LINE\n",
    "\"\"\"\n",
    "tests.test_train_nn(train_neural_network)"
   ]
  },
  {
   "cell_type": "markdown",
   "metadata": {
    "deletable": true,
    "editable": true
   },
   "source": [
    "### Show Stats\n",
    "Implement the function `print_stats` to print loss and validation accuracy.  Use the global variables `valid_features` and `valid_labels` to calculate validation accuracy.  Use a keep probability of `1.0` to calculate the loss and validation accuracy."
   ]
  },
  {
   "cell_type": "code",
   "execution_count": 10,
   "metadata": {
    "collapsed": false,
    "deletable": true,
    "editable": true
   },
   "outputs": [],
   "source": [
    "def print_stats(session, feature_batch, label_batch, cost, accuracy):\n",
    "    \"\"\"\n",
    "    Print information about loss and validation accuracy\n",
    "    : session: Current TensorFlow session\n",
    "    : feature_batch: Batch of Numpy image data\n",
    "    : label_batch: Batch of Numpy label data\n",
    "    : cost: TensorFlow cost function\n",
    "    : accuracy: TensorFlow accuracy function\n",
    "    \"\"\"\n",
    "    # TODO: Implement Function\n",
    "    test_loss, test_accuracy = session.run([cost, accuracy], feed_dict={'x:0': valid_features, 'y:0': valid_labels, 'keep_prob:0':1.0})\n",
    "    print('Loss is {}. Accuracy is {}'.format(test_loss, test_accuracy))"
   ]
  },
  {
   "cell_type": "markdown",
   "metadata": {
    "deletable": true,
    "editable": true
   },
   "source": [
    "### Hyperparameters\n",
    "Tune the following parameters:\n",
    "* Set `epochs` to the number of iterations until the network stops learning or start overfitting\n",
    "* Set `batch_size` to the highest number that your machine has memory for.  Most people set them to common sizes of memory:\n",
    " * 64\n",
    " * 128\n",
    " * 256\n",
    " * ...\n",
    "* Set `keep_probability` to the probability of keeping a node using dropout"
   ]
  },
  {
   "cell_type": "code",
   "execution_count": 11,
   "metadata": {
    "collapsed": true,
    "deletable": true,
    "editable": true
   },
   "outputs": [],
   "source": [
    "# TODO: Tune Parameters\n",
    "epochs = 30\n",
    "batch_size = 128\n",
    "keep_probability = 0.5"
   ]
  },
  {
   "cell_type": "markdown",
   "metadata": {
    "deletable": true,
    "editable": true
   },
   "source": [
    "### Train on a Single CIFAR-10 Batch\n",
    "Instead of training the neural network on all the CIFAR-10 batches of data, let's use a single batch. This should save time while you iterate on the model to get a better accuracy.  Once the final validation accuracy is 50% or greater, run the model on all the data in the next section."
   ]
  },
  {
   "cell_type": "code",
   "execution_count": 12,
   "metadata": {
    "collapsed": false,
    "deletable": true,
    "editable": true
   },
   "outputs": [
    {
     "name": "stdout",
     "output_type": "stream",
     "text": [
      "Checking the Training on a Single Batch...\n",
      "Epoch  1, CIFAR-10 Batch 1:  Loss is 1.872047781944275. Accuracy is 0.3341999650001526\n",
      "Epoch  2, CIFAR-10 Batch 1:  Loss is 1.6693480014801025. Accuracy is 0.39479997754096985\n",
      "Epoch  3, CIFAR-10 Batch 1:  Loss is 1.5632504224777222. Accuracy is 0.4407999515533447\n",
      "Epoch  4, CIFAR-10 Batch 1:  Loss is 1.4942742586135864. Accuracy is 0.4655999541282654\n",
      "Epoch  5, CIFAR-10 Batch 1:  Loss is 1.4743255376815796. Accuracy is 0.46619999408721924\n",
      "Epoch  6, CIFAR-10 Batch 1:  Loss is 1.4252548217773438. Accuracy is 0.49939996004104614\n",
      "Epoch  7, CIFAR-10 Batch 1:  Loss is 1.429013729095459. Accuracy is 0.4971999526023865\n",
      "Epoch  8, CIFAR-10 Batch 1:  Loss is 1.442204236984253. Accuracy is 0.5031999349594116\n",
      "Epoch  9, CIFAR-10 Batch 1:  Loss is 1.4493510723114014. Accuracy is 0.5069999098777771\n",
      "Epoch 10, CIFAR-10 Batch 1:  Loss is 1.4299267530441284. Accuracy is 0.5203999876976013\n",
      "Epoch 11, CIFAR-10 Batch 1:  Loss is 1.5138493776321411. Accuracy is 0.4971999526023865\n",
      "Epoch 12, CIFAR-10 Batch 1:  Loss is 1.4858596324920654. Accuracy is 0.5235999822616577\n",
      "Epoch 13, CIFAR-10 Batch 1:  Loss is 1.4797948598861694. Accuracy is 0.512999951839447\n",
      "Epoch 14, CIFAR-10 Batch 1:  Loss is 1.546671986579895. Accuracy is 0.5011999607086182\n",
      "Epoch 15, CIFAR-10 Batch 1:  Loss is 1.505136251449585. Accuracy is 0.5265999436378479\n",
      "Epoch 16, CIFAR-10 Batch 1:  Loss is 1.5464130640029907. Accuracy is 0.5169999599456787\n",
      "Epoch 17, CIFAR-10 Batch 1:  Loss is 1.5559477806091309. Accuracy is 0.5155999660491943\n",
      "Epoch 18, CIFAR-10 Batch 1:  Loss is 1.520011067390442. Accuracy is 0.5299999713897705\n",
      "Epoch 19, CIFAR-10 Batch 1:  Loss is 1.5596178770065308. Accuracy is 0.520799994468689\n",
      "Epoch 20, CIFAR-10 Batch 1:  Loss is 1.5986237525939941. Accuracy is 0.5297999382019043\n",
      "Epoch 21, CIFAR-10 Batch 1:  Loss is 1.6161795854568481. Accuracy is 0.5305998921394348\n",
      "Epoch 22, CIFAR-10 Batch 1:  Loss is 1.72694730758667. Accuracy is 0.5413998961448669\n",
      "Epoch 23, CIFAR-10 Batch 1:  Loss is 1.7125953435897827. Accuracy is 0.5407999753952026\n",
      "Epoch 24, CIFAR-10 Batch 1:  Loss is 1.970695972442627. Accuracy is 0.5163999795913696\n",
      "Epoch 25, CIFAR-10 Batch 1:  Loss is 1.97254478931427. Accuracy is 0.5317999124526978\n",
      "Epoch 26, CIFAR-10 Batch 1:  Loss is 1.9512104988098145. Accuracy is 0.5385999083518982\n",
      "Epoch 27, CIFAR-10 Batch 1:  Loss is 1.8818473815917969. Accuracy is 0.5395998954772949\n",
      "Epoch 28, CIFAR-10 Batch 1:  Loss is 2.175381660461426. Accuracy is 0.5195999145507812\n",
      "Epoch 29, CIFAR-10 Batch 1:  Loss is 2.157038688659668. Accuracy is 0.5251999497413635\n",
      "Epoch 30, CIFAR-10 Batch 1:  Loss is 2.0079352855682373. Accuracy is 0.535599946975708\n"
     ]
    }
   ],
   "source": [
    "\"\"\"\n",
    "DON'T MODIFY ANYTHING IN THIS CELL\n",
    "\"\"\"\n",
    "print('Checking the Training on a Single Batch...')\n",
    "with tf.Session() as sess:\n",
    "    # Initializing the variables\n",
    "    sess.run(tf.global_variables_initializer())\n",
    "    \n",
    "    # Training cycle\n",
    "    for epoch in range(epochs):\n",
    "        batch_i = 1\n",
    "        for batch_features, batch_labels in helper.load_preprocess_training_batch(batch_i, batch_size):\n",
    "            train_neural_network(sess, optimizer, keep_probability, batch_features, batch_labels)\n",
    "        print('Epoch {:>2}, CIFAR-10 Batch {}:  '.format(epoch + 1, batch_i), end='')\n",
    "        print_stats(sess, batch_features, batch_labels, cost, accuracy)"
   ]
  },
  {
   "cell_type": "markdown",
   "metadata": {
    "deletable": true,
    "editable": true
   },
   "source": [
    "### Fully Train the Model\n",
    "Now that you got a good accuracy with a single CIFAR-10 batch, try it with all five batches."
   ]
  },
  {
   "cell_type": "code",
   "execution_count": 13,
   "metadata": {
    "collapsed": false,
    "deletable": true,
    "editable": true
   },
   "outputs": [
    {
     "name": "stdout",
     "output_type": "stream",
     "text": [
      "Training...\n",
      "Epoch  1, CIFAR-10 Batch 1:  Loss is 1.9024584293365479. Accuracy is 0.319599986076355\n",
      "Epoch  1, CIFAR-10 Batch 2:  Loss is 1.7213927507400513. Accuracy is 0.37939995527267456\n",
      "Epoch  1, CIFAR-10 Batch 3:  Loss is 1.6320949792861938. Accuracy is 0.40219998359680176\n",
      "Epoch  1, CIFAR-10 Batch 4:  Loss is 1.5860453844070435. Accuracy is 0.42579999566078186\n",
      "Epoch  1, CIFAR-10 Batch 5:  Loss is 1.5176937580108643. Accuracy is 0.43859997391700745\n",
      "Epoch  2, CIFAR-10 Batch 1:  Loss is 1.4984395503997803. Accuracy is 0.4537999629974365\n",
      "Epoch  2, CIFAR-10 Batch 2:  Loss is 1.5490009784698486. Accuracy is 0.42879995703697205\n",
      "Epoch  2, CIFAR-10 Batch 3:  Loss is 1.4522099494934082. Accuracy is 0.47359997034072876\n",
      "Epoch  2, CIFAR-10 Batch 4:  Loss is 1.3857324123382568. Accuracy is 0.4931999444961548\n",
      "Epoch  2, CIFAR-10 Batch 5:  Loss is 1.340278148651123. Accuracy is 0.5125999450683594\n",
      "Epoch  3, CIFAR-10 Batch 1:  Loss is 1.3392376899719238. Accuracy is 0.5155999660491943\n",
      "Epoch  3, CIFAR-10 Batch 2:  Loss is 1.3239473104476929. Accuracy is 0.5245999097824097\n",
      "Epoch  3, CIFAR-10 Batch 3:  Loss is 1.3212839365005493. Accuracy is 0.5313999652862549\n",
      "Epoch  3, CIFAR-10 Batch 4:  Loss is 1.3641223907470703. Accuracy is 0.515999972820282\n",
      "Epoch  3, CIFAR-10 Batch 5:  Loss is 1.2519803047180176. Accuracy is 0.5433999300003052\n",
      "Epoch  4, CIFAR-10 Batch 1:  Loss is 1.2389774322509766. Accuracy is 0.554399847984314\n",
      "Epoch  4, CIFAR-10 Batch 2:  Loss is 1.306738018989563. Accuracy is 0.5179999470710754\n",
      "Epoch  4, CIFAR-10 Batch 3:  Loss is 1.2011576890945435. Accuracy is 0.5653999447822571\n",
      "Epoch  4, CIFAR-10 Batch 4:  Loss is 1.1778755187988281. Accuracy is 0.5731999278068542\n",
      "Epoch  4, CIFAR-10 Batch 5:  Loss is 1.1938098669052124. Accuracy is 0.5697999000549316\n",
      "Epoch  5, CIFAR-10 Batch 1:  Loss is 1.1866095066070557. Accuracy is 0.5707999467849731\n",
      "Epoch  5, CIFAR-10 Batch 2:  Loss is 1.171301245689392. Accuracy is 0.5821999311447144\n",
      "Epoch  5, CIFAR-10 Batch 3:  Loss is 1.1833733320236206. Accuracy is 0.5705999732017517\n",
      "Epoch  5, CIFAR-10 Batch 4:  Loss is 1.1571745872497559. Accuracy is 0.5837999582290649\n",
      "Epoch  5, CIFAR-10 Batch 5:  Loss is 1.1228399276733398. Accuracy is 0.5973999500274658\n",
      "Epoch  6, CIFAR-10 Batch 1:  Loss is 1.1620761156082153. Accuracy is 0.5923999547958374\n",
      "Epoch  6, CIFAR-10 Batch 2:  Loss is 1.149792194366455. Accuracy is 0.5947998762130737\n",
      "Epoch  6, CIFAR-10 Batch 3:  Loss is 1.139392614364624. Accuracy is 0.5963999629020691\n",
      "Epoch  6, CIFAR-10 Batch 4:  Loss is 1.1225367784500122. Accuracy is 0.6032000184059143\n",
      "Epoch  6, CIFAR-10 Batch 5:  Loss is 1.1146546602249146. Accuracy is 0.6089999079704285\n",
      "Epoch  7, CIFAR-10 Batch 1:  Loss is 1.1274656057357788. Accuracy is 0.6039999723434448\n",
      "Epoch  7, CIFAR-10 Batch 2:  Loss is 1.1511814594268799. Accuracy is 0.5905998945236206\n",
      "Epoch  7, CIFAR-10 Batch 3:  Loss is 1.0985026359558105. Accuracy is 0.6139999032020569\n",
      "Epoch  7, CIFAR-10 Batch 4:  Loss is 1.091135025024414. Accuracy is 0.6189998984336853\n",
      "Epoch  7, CIFAR-10 Batch 5:  Loss is 1.0930957794189453. Accuracy is 0.6209999322891235\n",
      "Epoch  8, CIFAR-10 Batch 1:  Loss is 1.0603115558624268. Accuracy is 0.6307998895645142\n",
      "Epoch  8, CIFAR-10 Batch 2:  Loss is 1.091196060180664. Accuracy is 0.6129999160766602\n",
      "Epoch  8, CIFAR-10 Batch 3:  Loss is 1.1223841905593872. Accuracy is 0.6089999079704285\n",
      "Epoch  8, CIFAR-10 Batch 4:  Loss is 1.0890586376190186. Accuracy is 0.6257998943328857\n",
      "Epoch  8, CIFAR-10 Batch 5:  Loss is 1.1032792329788208. Accuracy is 0.6245998740196228\n",
      "Epoch  9, CIFAR-10 Batch 1:  Loss is 1.072504997253418. Accuracy is 0.6349998712539673\n",
      "Epoch  9, CIFAR-10 Batch 2:  Loss is 1.0802804231643677. Accuracy is 0.6343998908996582\n",
      "Epoch  9, CIFAR-10 Batch 3:  Loss is 1.0817210674285889. Accuracy is 0.6321999430656433\n",
      "Epoch  9, CIFAR-10 Batch 4:  Loss is 1.0471770763397217. Accuracy is 0.6439999341964722\n",
      "Epoch  9, CIFAR-10 Batch 5:  Loss is 1.1339526176452637. Accuracy is 0.6315999627113342\n",
      "Epoch 10, CIFAR-10 Batch 1:  Loss is 1.0491398572921753. Accuracy is 0.6429998874664307\n",
      "Epoch 10, CIFAR-10 Batch 2:  Loss is 1.0849863290786743. Accuracy is 0.6307998895645142\n",
      "Epoch 10, CIFAR-10 Batch 3:  Loss is 1.0310695171356201. Accuracy is 0.650399923324585\n",
      "Epoch 10, CIFAR-10 Batch 4:  Loss is 1.0506627559661865. Accuracy is 0.6453999280929565\n",
      "Epoch 10, CIFAR-10 Batch 5:  Loss is 1.1085885763168335. Accuracy is 0.6315999031066895\n",
      "Epoch 11, CIFAR-10 Batch 1:  Loss is 1.063145637512207. Accuracy is 0.6495998501777649\n",
      "Epoch 11, CIFAR-10 Batch 2:  Loss is 1.1218241453170776. Accuracy is 0.6207998991012573\n",
      "Epoch 11, CIFAR-10 Batch 3:  Loss is 1.0412580966949463. Accuracy is 0.6465998888015747\n",
      "Epoch 11, CIFAR-10 Batch 4:  Loss is 1.1020530462265015. Accuracy is 0.6347998976707458\n",
      "Epoch 11, CIFAR-10 Batch 5:  Loss is 1.1513527631759644. Accuracy is 0.6363998651504517\n",
      "Epoch 12, CIFAR-10 Batch 1:  Loss is 1.0353728532791138. Accuracy is 0.6579998731613159\n",
      "Epoch 12, CIFAR-10 Batch 2:  Loss is 1.0955027341842651. Accuracy is 0.6303999423980713\n",
      "Epoch 12, CIFAR-10 Batch 3:  Loss is 1.0472760200500488. Accuracy is 0.6505999565124512\n",
      "Epoch 12, CIFAR-10 Batch 4:  Loss is 1.111719012260437. Accuracy is 0.6379998922348022\n",
      "Epoch 12, CIFAR-10 Batch 5:  Loss is 1.1140844821929932. Accuracy is 0.6459999084472656\n",
      "Epoch 13, CIFAR-10 Batch 1:  Loss is 1.1242390871047974. Accuracy is 0.636199951171875\n",
      "Epoch 13, CIFAR-10 Batch 2:  Loss is 1.1759322881698608. Accuracy is 0.6161999106407166\n",
      "Epoch 13, CIFAR-10 Batch 3:  Loss is 1.0822654962539673. Accuracy is 0.6463998556137085\n",
      "Epoch 13, CIFAR-10 Batch 4:  Loss is 1.1674652099609375. Accuracy is 0.634199857711792\n",
      "Epoch 13, CIFAR-10 Batch 5:  Loss is 1.1007227897644043. Accuracy is 0.6559998989105225\n",
      "Epoch 14, CIFAR-10 Batch 1:  Loss is 1.1043373346328735. Accuracy is 0.6565999388694763\n",
      "Epoch 14, CIFAR-10 Batch 2:  Loss is 1.22041916847229. Accuracy is 0.6171998977661133\n",
      "Epoch 14, CIFAR-10 Batch 3:  Loss is 1.0843098163604736. Accuracy is 0.6541998982429504\n",
      "Epoch 14, CIFAR-10 Batch 4:  Loss is 1.0708773136138916. Accuracy is 0.6581998467445374\n",
      "Epoch 14, CIFAR-10 Batch 5:  Loss is 1.1143441200256348. Accuracy is 0.6553999185562134\n",
      "Epoch 15, CIFAR-10 Batch 1:  Loss is 1.115719199180603. Accuracy is 0.6497998833656311\n",
      "Epoch 15, CIFAR-10 Batch 2:  Loss is 1.1429507732391357. Accuracy is 0.6451998949050903\n",
      "Epoch 15, CIFAR-10 Batch 3:  Loss is 1.078140377998352. Accuracy is 0.6555999517440796\n",
      "Epoch 15, CIFAR-10 Batch 4:  Loss is 1.0562729835510254. Accuracy is 0.6601999402046204\n",
      "Epoch 15, CIFAR-10 Batch 5:  Loss is 1.1355252265930176. Accuracy is 0.6529999375343323\n",
      "Epoch 16, CIFAR-10 Batch 1:  Loss is 1.193176507949829. Accuracy is 0.6397998929023743\n",
      "Epoch 16, CIFAR-10 Batch 2:  Loss is 1.1182321310043335. Accuracy is 0.6503998637199402\n",
      "Epoch 16, CIFAR-10 Batch 3:  Loss is 1.0661604404449463. Accuracy is 0.6743999123573303\n",
      "Epoch 16, CIFAR-10 Batch 4:  Loss is 1.0570895671844482. Accuracy is 0.6639999151229858\n",
      "Epoch 16, CIFAR-10 Batch 5:  Loss is 1.12835693359375. Accuracy is 0.6657999157905579\n",
      "Epoch 17, CIFAR-10 Batch 1:  Loss is 1.1202802658081055. Accuracy is 0.665199875831604\n",
      "Epoch 17, CIFAR-10 Batch 2:  Loss is 1.2067804336547852. Accuracy is 0.6339999437332153\n",
      "Epoch 17, CIFAR-10 Batch 3:  Loss is 1.06195068359375. Accuracy is 0.6857998967170715\n",
      "Epoch 17, CIFAR-10 Batch 4:  Loss is 1.1094661951065063. Accuracy is 0.6617998480796814\n",
      "Epoch 17, CIFAR-10 Batch 5:  Loss is 1.1382641792297363. Accuracy is 0.6761998534202576\n",
      "Epoch 18, CIFAR-10 Batch 1:  Loss is 1.136213779449463. Accuracy is 0.6793999075889587\n",
      "Epoch 18, CIFAR-10 Batch 2:  Loss is 1.1736536026000977. Accuracy is 0.6513998508453369\n",
      "Epoch 18, CIFAR-10 Batch 3:  Loss is 1.1329139471054077. Accuracy is 0.6679999232292175\n",
      "Epoch 18, CIFAR-10 Batch 4:  Loss is 1.146202564239502. Accuracy is 0.6637998819351196\n",
      "Epoch 18, CIFAR-10 Batch 5:  Loss is 1.1309361457824707. Accuracy is 0.67659991979599\n",
      "Epoch 19, CIFAR-10 Batch 1:  Loss is 1.1324436664581299. Accuracy is 0.6759998798370361\n",
      "Epoch 19, CIFAR-10 Batch 2:  Loss is 1.2072291374206543. Accuracy is 0.6483998894691467\n",
      "Epoch 19, CIFAR-10 Batch 3:  Loss is 1.1162919998168945. Accuracy is 0.6697999238967896\n",
      "Epoch 19, CIFAR-10 Batch 4:  Loss is 1.1697026491165161. Accuracy is 0.6629998683929443\n",
      "Epoch 19, CIFAR-10 Batch 5:  Loss is 1.1876627206802368. Accuracy is 0.668199896812439\n",
      "Epoch 20, CIFAR-10 Batch 1:  Loss is 1.1394959688186646. Accuracy is 0.6837998628616333\n",
      "Epoch 20, CIFAR-10 Batch 2:  Loss is 1.1807050704956055. Accuracy is 0.66159987449646\n",
      "Epoch 20, CIFAR-10 Batch 3:  Loss is 1.200968861579895. Accuracy is 0.6557999849319458\n",
      "Epoch 20, CIFAR-10 Batch 4:  Loss is 1.208325982093811. Accuracy is 0.6589998602867126\n",
      "Epoch 20, CIFAR-10 Batch 5:  Loss is 1.290477991104126. Accuracy is 0.6637999415397644\n",
      "Epoch 21, CIFAR-10 Batch 1:  Loss is 1.1662800312042236. Accuracy is 0.675399899482727\n",
      "Epoch 21, CIFAR-10 Batch 2:  Loss is 1.1552600860595703. Accuracy is 0.6649999022483826\n",
      "Epoch 21, CIFAR-10 Batch 3:  Loss is 1.1641066074371338. Accuracy is 0.6609998941421509\n",
      "Epoch 21, CIFAR-10 Batch 4:  Loss is 1.189943552017212. Accuracy is 0.6551998853683472\n",
      "Epoch 21, CIFAR-10 Batch 5:  Loss is 1.2319402694702148. Accuracy is 0.6701998710632324\n",
      "Epoch 22, CIFAR-10 Batch 1:  Loss is 1.2004520893096924. Accuracy is 0.679399847984314\n",
      "Epoch 22, CIFAR-10 Batch 2:  Loss is 1.2516791820526123. Accuracy is 0.6663998961448669\n",
      "Epoch 22, CIFAR-10 Batch 3:  Loss is 1.2432630062103271. Accuracy is 0.6551998853683472\n",
      "Epoch 22, CIFAR-10 Batch 4:  Loss is 1.2694675922393799. Accuracy is 0.6487998366355896\n",
      "Epoch 22, CIFAR-10 Batch 5:  Loss is 1.2490357160568237. Accuracy is 0.675399899482727\n",
      "Epoch 23, CIFAR-10 Batch 1:  Loss is 1.2672078609466553. Accuracy is 0.6701999306678772\n",
      "Epoch 23, CIFAR-10 Batch 2:  Loss is 1.2650341987609863. Accuracy is 0.6613999009132385\n",
      "Epoch 23, CIFAR-10 Batch 3:  Loss is 1.2608708143234253. Accuracy is 0.665199875831604\n",
      "Epoch 23, CIFAR-10 Batch 4:  Loss is 1.163354754447937. Accuracy is 0.673599898815155\n",
      "Epoch 23, CIFAR-10 Batch 5:  Loss is 1.2369143962860107. Accuracy is 0.6775999069213867\n",
      "Epoch 24, CIFAR-10 Batch 1:  Loss is 1.384205937385559. Accuracy is 0.6597999334335327\n",
      "Epoch 24, CIFAR-10 Batch 2:  Loss is 1.3647350072860718. Accuracy is 0.6385999321937561\n",
      "Epoch 24, CIFAR-10 Batch 3:  Loss is 1.2752270698547363. Accuracy is 0.6577998995780945\n",
      "Epoch 24, CIFAR-10 Batch 4:  Loss is 1.2211722135543823. Accuracy is 0.6759998798370361\n",
      "Epoch 24, CIFAR-10 Batch 5:  Loss is 1.30281662940979. Accuracy is 0.6715998649597168\n",
      "Epoch 25, CIFAR-10 Batch 1:  Loss is 1.457311987876892. Accuracy is 0.6591998338699341\n",
      "Epoch 25, CIFAR-10 Batch 2:  Loss is 1.3683726787567139. Accuracy is 0.6497998833656311\n",
      "Epoch 25, CIFAR-10 Batch 3:  Loss is 1.2414195537567139. Accuracy is 0.6629999279975891\n",
      "Epoch 25, CIFAR-10 Batch 4:  Loss is 1.2621207237243652. Accuracy is 0.6665999293327332\n",
      "Epoch 25, CIFAR-10 Batch 5:  Loss is 1.3416763544082642. Accuracy is 0.6773998737335205\n",
      "Epoch 26, CIFAR-10 Batch 1:  Loss is 1.2983250617980957. Accuracy is 0.6695998907089233\n",
      "Epoch 26, CIFAR-10 Batch 2:  Loss is 1.3131818771362305. Accuracy is 0.6551998257637024\n",
      "Epoch 26, CIFAR-10 Batch 3:  Loss is 1.3125816583633423. Accuracy is 0.6697998642921448\n",
      "Epoch 26, CIFAR-10 Batch 4:  Loss is 1.2905185222625732. Accuracy is 0.6653999090194702\n",
      "Epoch 26, CIFAR-10 Batch 5:  Loss is 1.3563166856765747. Accuracy is 0.6787999272346497\n",
      "Epoch 27, CIFAR-10 Batch 1:  Loss is 1.4988027811050415. Accuracy is 0.6517999172210693\n",
      "Epoch 27, CIFAR-10 Batch 2:  Loss is 1.3944807052612305. Accuracy is 0.6401998996734619\n",
      "Epoch 27, CIFAR-10 Batch 3:  Loss is 1.333471417427063. Accuracy is 0.6659998893737793\n",
      "Epoch 27, CIFAR-10 Batch 4:  Loss is 1.2895163297653198. Accuracy is 0.6677998304367065\n",
      "Epoch 27, CIFAR-10 Batch 5:  Loss is 1.3208590745925903. Accuracy is 0.6835998296737671\n",
      "Epoch 28, CIFAR-10 Batch 1:  Loss is 1.4046882390975952. Accuracy is 0.6679998636245728\n",
      "Epoch 28, CIFAR-10 Batch 2:  Loss is 1.3508068323135376. Accuracy is 0.655799925327301\n",
      "Epoch 28, CIFAR-10 Batch 3:  Loss is 1.2725625038146973. Accuracy is 0.6831998825073242\n",
      "Epoch 28, CIFAR-10 Batch 4:  Loss is 1.408799648284912. Accuracy is 0.6665998101234436\n",
      "Epoch 28, CIFAR-10 Batch 5:  Loss is 1.4014816284179688. Accuracy is 0.6647998690605164\n",
      "Epoch 29, CIFAR-10 Batch 1:  Loss is 1.340775966644287. Accuracy is 0.6749998331069946\n",
      "Epoch 29, CIFAR-10 Batch 2:  Loss is 1.3278248310089111. Accuracy is 0.6531999111175537\n",
      "Epoch 29, CIFAR-10 Batch 3:  Loss is 1.3038103580474854. Accuracy is 0.6797998547554016\n",
      "Epoch 29, CIFAR-10 Batch 4:  Loss is 1.2866706848144531. Accuracy is 0.6759998798370361\n",
      "Epoch 29, CIFAR-10 Batch 5:  Loss is 1.3666937351226807. Accuracy is 0.6785998344421387\n",
      "Epoch 30, CIFAR-10 Batch 1:  Loss is 1.3225994110107422. Accuracy is 0.6793999075889587\n",
      "Epoch 30, CIFAR-10 Batch 2:  Loss is 1.3790497779846191. Accuracy is 0.6701998710632324\n",
      "Epoch 30, CIFAR-10 Batch 3:  Loss is 1.3749661445617676. Accuracy is 0.6675998568534851\n",
      "Epoch 30, CIFAR-10 Batch 4:  Loss is 1.3694686889648438. Accuracy is 0.6779998540878296\n",
      "Epoch 30, CIFAR-10 Batch 5:  Loss is 1.3965271711349487. Accuracy is 0.6653998494148254\n"
     ]
    }
   ],
   "source": [
    "\"\"\"\n",
    "DON'T MODIFY ANYTHING IN THIS CELL\n",
    "\"\"\"\n",
    "save_model_path = './image_classification'\n",
    "\n",
    "print('Training...')\n",
    "with tf.Session() as sess:\n",
    "    # Initializing the variables\n",
    "    sess.run(tf.global_variables_initializer())\n",
    "    \n",
    "    # Training cycle\n",
    "    for epoch in range(epochs):\n",
    "        # Loop over all batches\n",
    "        n_batches = 5\n",
    "        for batch_i in range(1, n_batches + 1):\n",
    "            for batch_features, batch_labels in helper.load_preprocess_training_batch(batch_i, batch_size):\n",
    "                train_neural_network(sess, optimizer, keep_probability, batch_features, batch_labels)\n",
    "            print('Epoch {:>2}, CIFAR-10 Batch {}:  '.format(epoch + 1, batch_i), end='')\n",
    "            print_stats(sess, batch_features, batch_labels, cost, accuracy)\n",
    "            \n",
    "    # Save Model\n",
    "    saver = tf.train.Saver()\n",
    "    save_path = saver.save(sess, save_model_path)"
   ]
  },
  {
   "cell_type": "markdown",
   "metadata": {
    "deletable": true,
    "editable": true
   },
   "source": [
    "# Checkpoint\n",
    "The model has been saved to disk.\n",
    "## Test Model\n",
    "Test your model against the test dataset.  This will be your final accuracy. You should have an accuracy greater than 50%. If you don't, keep tweaking the model architecture and parameters."
   ]
  },
  {
   "cell_type": "code",
   "execution_count": 14,
   "metadata": {
    "collapsed": false,
    "deletable": true,
    "editable": true
   },
   "outputs": [
    {
     "name": "stdout",
     "output_type": "stream",
     "text": [
      "Testing Accuracy: 0.6722705696202531\n",
      "\n"
     ]
    },
    {
     "data": {
      "image/png": "[encoded data removed]",
      "text/plain": [
       "<matplotlib.figure.Figure at 0x7f609ad29ef0>"
      ]
     },
     "metadata": {
      "image/png": {
       "height": 319,
       "width": 355
      }
     },
     "output_type": "display_data"
    }
   ],
   "source": [
    "\"\"\"\n",
    "DON'T MODIFY ANYTHING IN THIS CELL\n",
    "\"\"\"\n",
    "%matplotlib inline\n",
    "%config InlineBackend.figure_format = 'retina'\n",
    "\n",
    "import tensorflow as tf\n",
    "import pickle\n",
    "import helper\n",
    "import random\n",
    "\n",
    "# Set batch size if not already set\n",
    "try:\n",
    "    if batch_size:\n",
    "        pass\n",
    "except NameError:\n",
    "    batch_size = 64\n",
    "\n",
    "save_model_path = './image_classification'\n",
    "n_samples = 4\n",
    "top_n_predictions = 3\n",
    "\n",
    "def test_model():\n",
    "    \"\"\"\n",
    "    Test the saved model against the test dataset\n",
    "    \"\"\"\n",
    "\n",
    "    test_features, test_labels = pickle.load(open('preprocess_training.p', mode='rb'))\n",
    "    loaded_graph = tf.Graph()\n",
    "\n",
    "    with tf.Session(graph=loaded_graph) as sess:\n",
    "        # Load model\n",
    "        loader = tf.train.import_meta_graph(save_model_path + '.meta')\n",
    "        loader.restore(sess, save_model_path)\n",
    "\n",
    "        # Get Tensors from loaded model\n",
    "        loaded_x = loaded_graph.get_tensor_by_name('x:0')\n",
    "        loaded_y = loaded_graph.get_tensor_by_name('y:0')\n",
    "        loaded_keep_prob = loaded_graph.get_tensor_by_name('keep_prob:0')\n",
    "        loaded_logits = loaded_graph.get_tensor_by_name('logits:0')\n",
    "        loaded_acc = loaded_graph.get_tensor_by_name('accuracy:0')\n",
    "        \n",
    "        # Get accuracy in batches for memory limitations\n",
    "        test_batch_acc_total = 0\n",
    "        test_batch_count = 0\n",
    "        \n",
    "        for train_feature_batch, train_label_batch in helper.batch_features_labels(test_features, test_labels, batch_size):\n",
    "            test_batch_acc_total += sess.run(\n",
    "                loaded_acc,\n",
    "                feed_dict={loaded_x: train_feature_batch, loaded_y: train_label_batch, loaded_keep_prob: 1.0})\n",
    "            test_batch_count += 1\n",
    "\n",
    "        print('Testing Accuracy: {}\\n'.format(test_batch_acc_total/test_batch_count))\n",
    "\n",
    "        # Print Random Samples\n",
    "        random_test_features, random_test_labels = tuple(zip(*random.sample(list(zip(test_features, test_labels)), n_samples)))\n",
    "        random_test_predictions = sess.run(\n",
    "            tf.nn.top_k(tf.nn.softmax(loaded_logits), top_n_predictions),\n",
    "            feed_dict={loaded_x: random_test_features, loaded_y: random_test_labels, loaded_keep_prob: 1.0})\n",
    "        helper.display_image_predictions(random_test_features, random_test_labels, random_test_predictions)\n",
    "\n",
    "\n",
    "test_model()"
   ]
  },
  {
   "cell_type": "markdown",
   "metadata": {
    "deletable": true,
    "editable": true
   },
   "source": [
    "## Why 50-70% Accuracy?\n",
    "You might be wondering why you can't get an accuracy any higher. First things first, 50% isn't bad for a simple CNN.  Pure guessing would get you 10% accuracy. However, you might notice people are getting scores [well above 70%](http://rodrigob.github.io/are_we_there_yet/build/classification_datasets_results.html#43494641522d3130).  That's because we haven't taught you all there is to know about neural networks. We still need to cover a few more techniques.\n",
    "## Submitting This Project\n",
    "When submitting this project, make sure to run all the cells before saving the notebook.  Save the notebook file as \"dlnd_image_classification.ipynb\" and save it as a HTML file under \"File\" -> \"Download as\".  Include the \"helper.py\" and \"problem_unittests.py\" files in your submission."
   ]
  },
  {
   "cell_type": "code",
   "execution_count": null,
   "metadata": {
    "collapsed": true
   },
   "outputs": [],
   "source": []
  }
 ],
 "metadata": {
  "kernelspec": {
   "display_name": "Python 3",
   "language": "python",
   "name": "python3"
  },
  "language_info": {
   "codemirror_mode": {
    "name": "ipython",
    "version": 3
   },
   "file_extension": ".py",
   "mimetype": "text/x-python",
   "name": "python",
   "nbconvert_exporter": "python",
   "pygments_lexer": "ipython3",
   "version": "3.5.2"
  },
  "widgets": {
   "state": {},
   "version": "1.1.2"
  }
 },
 "nbformat": 4,
 "nbformat_minor": 0
}
